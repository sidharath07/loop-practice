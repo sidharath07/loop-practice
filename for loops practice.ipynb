{
 "cells": [
  {
   "cell_type": "code",
   "execution_count": 9,
   "id": "1b376032-c043-45eb-8bb9-edca230feada",
   "metadata": {},
   "outputs": [],
   "source": [
    "l = [1,2,3,4,56]"
   ]
  },
  {
   "cell_type": "code",
   "execution_count": 13,
   "id": "b3f369de-1d3f-4d9c-a10f-4409fdc4d8a0",
   "metadata": {},
   "outputs": [
    {
     "name": "stdout",
     "output_type": "stream",
     "text": [
      "1 <class 'int'>\n",
      "2 <class 'int'>\n",
      "3 <class 'int'>\n",
      "4 <class 'int'>\n",
      "56 <class 'int'>\n"
     ]
    }
   ],
   "source": [
    "for i in l :\n",
    "    print(i , type(i))\n",
    "    "
   ]
  },
  {
   "cell_type": "code",
   "execution_count": 14,
   "id": "b02e6c7c-3bd8-4613-a97b-86beb15c7feb",
   "metadata": {},
   "outputs": [],
   "source": [
    "l1 = [\"sidharth\", \"kumar\" , \"krish kumar\"]"
   ]
  },
  {
   "cell_type": "code",
   "execution_count": 16,
   "id": "1481c85b-bde3-4f5b-aaec-99d97be51c51",
   "metadata": {},
   "outputs": [
    {
     "name": "stdout",
     "output_type": "stream",
     "text": [
      "sidharth\n",
      "kumar\n",
      "krish kumar\n"
     ]
    }
   ],
   "source": [
    "for i in l1 :\n",
    "    print(i)"
   ]
  },
  {
   "cell_type": "code",
   "execution_count": 17,
   "id": "379ac0c6-3b27-43cf-9a26-ab051787f532",
   "metadata": {},
   "outputs": [
    {
     "name": "stdout",
     "output_type": "stream",
     "text": [
      "sidharth\n",
      "kumar\n",
      "krish kumar\n",
      " if for loop is the able to complete itself then only else will execute\n"
     ]
    }
   ],
   "source": [
    "for i in l1 :\n",
    "    print(i)\n",
    "else :\n",
    "    print(\" if for loop is the able to complete itself then only else will execute\")"
   ]
  },
  {
   "cell_type": "code",
   "execution_count": 18,
   "id": "6a306f91-f7d0-4f51-86b9-e7b4f26c4f73",
   "metadata": {},
   "outputs": [
    {
     "data": {
      "text/plain": [
       "['sidharth', 'kumar', 'krish kumar']"
      ]
     },
     "execution_count": 18,
     "metadata": {},
     "output_type": "execute_result"
    }
   ],
   "source": [
    "l1"
   ]
  },
  {
   "cell_type": "code",
   "execution_count": 20,
   "id": "2fc95368-75f1-4222-bcc9-9d576b18a009",
   "metadata": {},
   "outputs": [
    {
     "name": "stdout",
     "output_type": "stream",
     "text": [
      "sidharth\n"
     ]
    }
   ],
   "source": [
    "for i in l1 :\n",
    "    if i == \"kumar\":\n",
    "        break\n",
    "    print(i)    "
   ]
  },
  {
   "cell_type": "code",
   "execution_count": 21,
   "id": "7a48098e-72fa-42c5-83bf-7b9e9b330aca",
   "metadata": {},
   "outputs": [
    {
     "name": "stdout",
     "output_type": "stream",
     "text": [
      "sidharth\n"
     ]
    }
   ],
   "source": [
    "for i in l1 :\n",
    "    if i == \"kumar\":\n",
    "        break\n",
    "    print(i)\n",
    "else : \n",
    "    print(\"execute this if for loop is able to compele itself\")"
   ]
  },
  {
   "cell_type": "code",
   "execution_count": 22,
   "id": "0afad6c8-b644-44b6-862f-251bc2d18d4c",
   "metadata": {},
   "outputs": [
    {
     "data": {
      "text/plain": [
       "['sidharth', 'kumar', 'krish kumar']"
      ]
     },
     "execution_count": 22,
     "metadata": {},
     "output_type": "execute_result"
    }
   ],
   "source": [
    "l1"
   ]
  },
  {
   "cell_type": "code",
   "execution_count": 23,
   "id": "aa8836b9-130a-43d8-82ce-cf394ec913aa",
   "metadata": {},
   "outputs": [
    {
     "name": "stdout",
     "output_type": "stream",
     "text": [
      "sidharth\n",
      "krish kumar\n"
     ]
    }
   ],
   "source": [
    "for i in l1 :\n",
    "    if i == \"kumar\":\n",
    "        continue\n",
    "    print(i)    \n",
    "        "
   ]
  },
  {
   "cell_type": "code",
   "execution_count": 25,
   "id": "d18edb33-9baf-4c02-8fb6-f8d2d302f487",
   "metadata": {},
   "outputs": [
    {
     "name": "stdout",
     "output_type": "stream",
     "text": [
      "sidharth\n",
      "krish kumar\n",
      "execute this if for loop is able to complete itself\n"
     ]
    }
   ],
   "source": [
    "for i in l1 :\n",
    "    if i == \"kumar\":\n",
    "        continue\n",
    "    print(i)\n",
    "else :\n",
    "    print(\"execute this if for loop is able to complete itself\")\n",
    "    "
   ]
  },
  {
   "cell_type": "code",
   "execution_count": 26,
   "id": "8819620e-b0e4-4527-a775-8150d9dac43b",
   "metadata": {},
   "outputs": [
    {
     "data": {
      "text/plain": [
       "range(0, 5)"
      ]
     },
     "execution_count": 26,
     "metadata": {},
     "output_type": "execute_result"
    }
   ],
   "source": [
    "range(5)"
   ]
  },
  {
   "cell_type": "code",
   "execution_count": 27,
   "id": "e56b9f49-08d0-4988-ae1a-56afaacd9008",
   "metadata": {},
   "outputs": [
    {
     "data": {
      "text/plain": [
       "[0, 1, 2, 3, 4]"
      ]
     },
     "execution_count": 27,
     "metadata": {},
     "output_type": "execute_result"
    }
   ],
   "source": [
    "list(range(5))"
   ]
  },
  {
   "cell_type": "code",
   "execution_count": 29,
   "id": "3e8fba26-a25c-4679-a758-1be98571d5b0",
   "metadata": {},
   "outputs": [
    {
     "data": {
      "text/plain": [
       "[0, 1, 2, 3, 4]"
      ]
     },
     "execution_count": 29,
     "metadata": {},
     "output_type": "execute_result"
    }
   ],
   "source": [
    "list(range(0,5,1))"
   ]
  },
  {
   "cell_type": "code",
   "execution_count": 30,
   "id": "21e1d6bc-2754-4830-84dc-1f5867e7c409",
   "metadata": {},
   "outputs": [
    {
     "data": {
      "text/plain": [
       "range(0, 20, 2)"
      ]
     },
     "execution_count": 30,
     "metadata": {},
     "output_type": "execute_result"
    }
   ],
   "source": [
    "range(0,20,2)"
   ]
  },
  {
   "cell_type": "code",
   "execution_count": 32,
   "id": "7db84be8-86da-4152-a9f7-226644ede6f2",
   "metadata": {},
   "outputs": [
    {
     "data": {
      "text/plain": [
       "[0, 2, 4, 6, 8, 10, 12, 14, 16, 18]"
      ]
     },
     "execution_count": 32,
     "metadata": {},
     "output_type": "execute_result"
    }
   ],
   "source": [
    "list(range(0,20,2))"
   ]
  },
  {
   "cell_type": "code",
   "execution_count": 4,
   "id": "c62839a3-6450-4309-94bb-fac9dd5ac470",
   "metadata": {},
   "outputs": [
    {
     "data": {
      "text/plain": [
       "[-10, -9, -8, -7, -6, -5, -4, -3, -2, -1]"
      ]
     },
     "execution_count": 4,
     "metadata": {},
     "output_type": "execute_result"
    }
   ],
   "source": [
    "list(range(-10,0))"
   ]
  },
  {
   "cell_type": "code",
   "execution_count": 5,
   "id": "f87cf49e-e487-4087-91f1-c38f58a61581",
   "metadata": {},
   "outputs": [],
   "source": [
    "l2 = ['sidharth','kumar','satandra' ,'pawan']"
   ]
  },
  {
   "cell_type": "code",
   "execution_count": 6,
   "id": "82b0abe8-147e-45ee-a92d-fc212013b0ed",
   "metadata": {},
   "outputs": [
    {
     "data": {
      "text/plain": [
       "['sidharth', 'kumar', 'satandra', 'pawan']"
      ]
     },
     "execution_count": 6,
     "metadata": {},
     "output_type": "execute_result"
    }
   ],
   "source": [
    "l2"
   ]
  },
  {
   "cell_type": "code",
   "execution_count": 7,
   "id": "8a8c81ce-cc70-4b43-b695-ed0cbbeaf91d",
   "metadata": {},
   "outputs": [
    {
     "data": {
      "text/plain": [
       "4"
      ]
     },
     "execution_count": 7,
     "metadata": {},
     "output_type": "execute_result"
    }
   ],
   "source": [
    "len(l2)"
   ]
  },
  {
   "cell_type": "code",
   "execution_count": 8,
   "id": "1fb85a89-8709-4f82-ab49-6afd5a2f7907",
   "metadata": {},
   "outputs": [
    {
     "data": {
      "text/plain": [
       "range(0, 4)"
      ]
     },
     "execution_count": 8,
     "metadata": {},
     "output_type": "execute_result"
    }
   ],
   "source": [
    "range(len(l2))"
   ]
  },
  {
   "cell_type": "code",
   "execution_count": 9,
   "id": "639bdbf0-cc1e-4974-ac7d-f09cd22ac6d2",
   "metadata": {},
   "outputs": [
    {
     "data": {
      "text/plain": [
       "[0, 1, 2, 3]"
      ]
     },
     "execution_count": 9,
     "metadata": {},
     "output_type": "execute_result"
    }
   ],
   "source": [
    "list(range(len(l2)))"
   ]
  },
  {
   "cell_type": "code",
   "execution_count": 10,
   "id": "08c4b3f7-c667-4db1-8c81-60a235df3e65",
   "metadata": {},
   "outputs": [
    {
     "name": "stdout",
     "output_type": "stream",
     "text": [
      "sidharth\n",
      "kumar\n",
      "satandra\n",
      "pawan\n"
     ]
    }
   ],
   "source": [
    "for i in range(len(l2)):\n",
    "    print(l2[i])"
   ]
  },
  {
   "cell_type": "code",
   "execution_count": 12,
   "id": "563a8623-aa3c-4138-be18-a55cdb3f6a0f",
   "metadata": {},
   "outputs": [
    {
     "data": {
      "text/plain": [
       "4"
      ]
     },
     "execution_count": 12,
     "metadata": {},
     "output_type": "execute_result"
    }
   ],
   "source": [
    "len(l2)"
   ]
  },
  {
   "cell_type": "code",
   "execution_count": 17,
   "id": "f423067a-34b6-43ab-b4b2-a33bb4bf6eff",
   "metadata": {},
   "outputs": [
    {
     "data": {
      "text/plain": [
       "[3, 2, 1, 0]"
      ]
     },
     "execution_count": 17,
     "metadata": {},
     "output_type": "execute_result"
    }
   ],
   "source": [
    "list(range(len(l2)-1,-1,-1))"
   ]
  },
  {
   "cell_type": "code",
   "execution_count": 18,
   "id": "f2093e33-7879-49ba-8215-d8fa71484cfe",
   "metadata": {},
   "outputs": [
    {
     "name": "stdout",
     "output_type": "stream",
     "text": [
      "pawan\n",
      "satandra\n",
      "kumar\n",
      "sidharth\n"
     ]
    }
   ],
   "source": [
    "for i in range(len(l2)-1,-1,-1):\n",
    "    print(l2[i])"
   ]
  },
  {
   "cell_type": "code",
   "execution_count": 9,
   "id": "a00ad68d-adbb-42dc-8556-2c3fce3d7fc2",
   "metadata": {},
   "outputs": [],
   "source": [
    "l3 = [23,5,45,56,6,67,78,8998,9,9,8,]"
   ]
  },
  {
   "cell_type": "code",
   "execution_count": 10,
   "id": "d7997eaf-51fe-4b78-a4de-d8f90d849ade",
   "metadata": {},
   "outputs": [
    {
     "data": {
      "text/plain": [
       "[23, 5, 45, 56, 6, 67, 78, 8998, 9, 9, 8]"
      ]
     },
     "execution_count": 10,
     "metadata": {},
     "output_type": "execute_result"
    }
   ],
   "source": [
    "l3"
   ]
  },
  {
   "cell_type": "code",
   "execution_count": 12,
   "id": "2c56816d-dcb0-4fdd-af5a-06276c9f3ab5",
   "metadata": {},
   "outputs": [
    {
     "data": {
      "text/plain": [
       "[0, 2, 4, 6, 8, 10]"
      ]
     },
     "execution_count": 12,
     "metadata": {},
     "output_type": "execute_result"
    }
   ],
   "source": [
    "list(range(0 , len(l3) , 2))"
   ]
  },
  {
   "cell_type": "code",
   "execution_count": 18,
   "id": "955e34a1-fc00-44d7-a912-57d5d635ae69",
   "metadata": {},
   "outputs": [
    {
     "name": "stdout",
     "output_type": "stream",
     "text": [
      "23\n",
      "45\n",
      "6\n",
      "78\n",
      "9\n",
      "8\n"
     ]
    }
   ],
   "source": [
    "for i in range(0 ,len(l3) , 2) :\n",
    "    print(l3[i])"
   ]
  },
  {
   "cell_type": "code",
   "execution_count": 15,
   "id": "e192ff14-af62-47a6-a451-7b9f92bf7e54",
   "metadata": {},
   "outputs": [
    {
     "data": {
      "text/plain": [
       "[23, 5, 45, 56, 6, 67, 78, 8998, 9, 9, 8]"
      ]
     },
     "execution_count": 15,
     "metadata": {},
     "output_type": "execute_result"
    }
   ],
   "source": [
    "l3"
   ]
  },
  {
   "cell_type": "code",
   "execution_count": 17,
   "id": "dd99c85c-91f6-4bb3-b280-c84bcafbf2f5",
   "metadata": {},
   "outputs": [
    {
     "name": "stdout",
     "output_type": "stream",
     "text": [
      "23\n",
      "45\n",
      "6\n",
      "78\n",
      "9\n",
      "8\n"
     ]
    }
   ],
   "source": [
    "for i in range(0 ,len(l3) , 2) :\n",
    "    print(l3[i])"
   ]
  },
  {
   "cell_type": "code",
   "execution_count": 19,
   "id": "77c6e4a3-a053-4198-9c6f-1eb751810110",
   "metadata": {},
   "outputs": [],
   "source": [
    "l = [1,2,3,4,5,6,7,8,100]"
   ]
  },
  {
   "cell_type": "code",
   "execution_count": 20,
   "id": "a77be476-7031-4111-b460-f030560e66b4",
   "metadata": {},
   "outputs": [
    {
     "data": {
      "text/plain": [
       "136"
      ]
     },
     "execution_count": 20,
     "metadata": {},
     "output_type": "execute_result"
    }
   ],
   "source": [
    "sum(l)"
   ]
  },
  {
   "cell_type": "code",
   "execution_count": 21,
   "id": "3a9c76b5-b826-4ef6-870d-52b01894e253",
   "metadata": {},
   "outputs": [
    {
     "data": {
      "text/plain": [
       "136"
      ]
     },
     "execution_count": 21,
     "metadata": {},
     "output_type": "execute_result"
    }
   ],
   "source": [
    "result = 0\n",
    "for i in l :\n",
    "    result = result+i\n",
    "result    "
   ]
  },
  {
   "cell_type": "code",
   "execution_count": 22,
   "id": "71c0a4c3-1b99-4571-a0eb-e22b1d923ca1",
   "metadata": {},
   "outputs": [],
   "source": [
    "t = (1,2,3,4,5,6,7,8,8,8,8,8,8)"
   ]
  },
  {
   "cell_type": "code",
   "execution_count": 23,
   "id": "91e664b5-fe7c-46ca-a57f-79c5b0a6a41b",
   "metadata": {},
   "outputs": [
    {
     "data": {
      "text/plain": [
       "76"
      ]
     },
     "execution_count": 23,
     "metadata": {},
     "output_type": "execute_result"
    }
   ],
   "source": [
    "sum(t)"
   ]
  },
  {
   "cell_type": "code",
   "execution_count": 24,
   "id": "55014aeb-baa8-4815-92b5-b3c4198529e0",
   "metadata": {},
   "outputs": [
    {
     "data": {
      "text/plain": [
       "76"
      ]
     },
     "execution_count": 24,
     "metadata": {},
     "output_type": "execute_result"
    }
   ],
   "source": [
    "result = 0\n",
    "for i in t :\n",
    "    result = result + i\n",
    "result    "
   ]
  },
  {
   "cell_type": "code",
   "execution_count": 25,
   "id": "b67b5f34-bdcb-411c-9205-9cda1c3b6ff4",
   "metadata": {},
   "outputs": [],
   "source": [
    "t = (1,2,3,4,5,6,7,8,8,8,8,8,8)"
   ]
  },
  {
   "cell_type": "code",
   "execution_count": 27,
   "id": "75794e75-cd1d-495d-920a-7a6572a5ecb9",
   "metadata": {},
   "outputs": [
    {
     "name": "stdout",
     "output_type": "stream",
     "text": [
      "1\n",
      "2\n",
      "3\n",
      "4\n",
      "5\n",
      "6\n",
      "7\n",
      "8\n",
      "8\n",
      "8\n",
      "8\n",
      "8\n",
      "8\n"
     ]
    }
   ],
   "source": [
    "for i in t :\n",
    "    print(i)"
   ]
  },
  {
   "cell_type": "code",
   "execution_count": 28,
   "id": "78f4cbce-d988-40da-9bee-dcbe5b03d982",
   "metadata": {},
   "outputs": [],
   "source": [
    "s = {1,2,3,4,5,6,7, \"sidharth\" \"kumar\"}"
   ]
  },
  {
   "cell_type": "code",
   "execution_count": 29,
   "id": "de3873db-8bfd-4162-80a0-e6baa2cb0d73",
   "metadata": {},
   "outputs": [
    {
     "name": "stdout",
     "output_type": "stream",
     "text": [
      "sidharthkumar\n",
      "1\n",
      "2\n",
      "3\n",
      "4\n",
      "5\n",
      "6\n",
      "7\n"
     ]
    }
   ],
   "source": [
    "for i in s :\n",
    "    print(i)"
   ]
  },
  {
   "cell_type": "code",
   "execution_count": 30,
   "id": "d678ee2a-7baf-4d7d-9801-c69bc5bb1991",
   "metadata": {},
   "outputs": [],
   "source": [
    "s3 = \"pwskills\""
   ]
  },
  {
   "cell_type": "code",
   "execution_count": 33,
   "id": "04d3b1a3-42e5-4cb9-b361-923b1264cc8f",
   "metadata": {},
   "outputs": [
    {
     "name": "stdout",
     "output_type": "stream",
     "text": [
      "p\n",
      "w\n",
      "s\n",
      "k\n",
      "i\n",
      "l\n",
      "l\n",
      "s\n"
     ]
    }
   ],
   "source": [
    "for i in s3 :\n",
    "    print(i)"
   ]
  },
  {
   "cell_type": "code",
   "execution_count": 34,
   "id": "f7dc86b7-c4b8-46b4-9c5a-dab322d2e8c6",
   "metadata": {},
   "outputs": [],
   "source": [
    "d = {\"name\": \"pwskills\" , \"class\" : \"data science masters\" , \"topic\" : [\"python\",\"stats\",\"machin learning\",\"DL\",\"CV\",\"NLP\",\"resume\",\"interview\"] }"
   ]
  },
  {
   "cell_type": "code",
   "execution_count": 35,
   "id": "e48de491-6ed9-472b-abd8-e169af1c2e60",
   "metadata": {},
   "outputs": [
    {
     "data": {
      "text/plain": [
       "{'name': 'pwskills',\n",
       " 'class': 'data science masters',\n",
       " 'topic': ['python',\n",
       "  'stats',\n",
       "  'machin learning',\n",
       "  'DL',\n",
       "  'CV',\n",
       "  'NLP',\n",
       "  'resume',\n",
       "  'interview']}"
      ]
     },
     "execution_count": 35,
     "metadata": {},
     "output_type": "execute_result"
    }
   ],
   "source": [
    "d"
   ]
  },
  {
   "cell_type": "code",
   "execution_count": 37,
   "id": "18221c92-aeba-456a-a6e4-c703850166f1",
   "metadata": {},
   "outputs": [
    {
     "data": {
      "text/plain": [
       "'pwskills'"
      ]
     },
     "execution_count": 37,
     "metadata": {},
     "output_type": "execute_result"
    }
   ],
   "source": [
    "d['name']"
   ]
  },
  {
   "cell_type": "code",
   "execution_count": 38,
   "id": "453e3db7-0be4-4e12-99c5-c0ba68e90988",
   "metadata": {},
   "outputs": [
    {
     "data": {
      "text/plain": [
       "dict_keys(['name', 'class', 'topic'])"
      ]
     },
     "execution_count": 38,
     "metadata": {},
     "output_type": "execute_result"
    }
   ],
   "source": [
    "d.keys()"
   ]
  },
  {
   "cell_type": "code",
   "execution_count": 39,
   "id": "55fe76a3-e4c5-47f0-93b4-ad948d2c9940",
   "metadata": {},
   "outputs": [
    {
     "name": "stdout",
     "output_type": "stream",
     "text": [
      "name\n",
      "class\n",
      "topic\n"
     ]
    }
   ],
   "source": [
    "for i in d  :\n",
    "    print(i)"
   ]
  },
  {
   "cell_type": "code",
   "execution_count": 40,
   "id": "51d2b273-3c15-4474-960e-4552242de2c6",
   "metadata": {},
   "outputs": [
    {
     "name": "stdout",
     "output_type": "stream",
     "text": [
      "pwskills\n",
      "data science masters\n",
      "['python', 'stats', 'machin learning', 'DL', 'CV', 'NLP', 'resume', 'interview']\n"
     ]
    }
   ],
   "source": [
    "for i in d.keys():\n",
    "    print(d[i])"
   ]
  },
  {
   "cell_type": "code",
   "execution_count": 43,
   "id": "54d7a896-d582-4bdb-82b3-b4844aafc4e4",
   "metadata": {},
   "outputs": [
    {
     "data": {
      "text/plain": [
       "dict_values(['pwskills', 'data science masters', ['python', 'stats', 'machin learning', 'DL', 'CV', 'NLP', 'resume', 'interview']])"
      ]
     },
     "execution_count": 43,
     "metadata": {},
     "output_type": "execute_result"
    }
   ],
   "source": [
    "d.values()"
   ]
  },
  {
   "cell_type": "code",
   "execution_count": 44,
   "id": "72e5fd12-6d22-4828-ba7e-8ee44b2d421b",
   "metadata": {},
   "outputs": [
    {
     "data": {
      "text/plain": [
       "dict_items([('name', 'pwskills'), ('class', 'data science masters'), ('topic', ['python', 'stats', 'machin learning', 'DL', 'CV', 'NLP', 'resume', 'interview'])])"
      ]
     },
     "execution_count": 44,
     "metadata": {},
     "output_type": "execute_result"
    }
   ],
   "source": [
    "d.items()"
   ]
  },
  {
   "cell_type": "code",
   "execution_count": 46,
   "id": "c6df2a14-516f-41f1-85a3-4d8cdc89383a",
   "metadata": {},
   "outputs": [
    {
     "name": "stdout",
     "output_type": "stream",
     "text": [
      "('name', 'pwskills')\n",
      "('class', 'data science masters')\n",
      "('topic', ['python', 'stats', 'machin learning', 'DL', 'CV', 'NLP', 'resume', 'interview'])\n"
     ]
    }
   ],
   "source": [
    "for i in d.items():\n",
    "    print(i)"
   ]
  },
  {
   "cell_type": "code",
   "execution_count": null,
   "id": "a1a7657f-2661-4e83-ba4a-69e5082feb2f",
   "metadata": {},
   "outputs": [],
   "source": []
  }
 ],
 "metadata": {
  "kernelspec": {
   "display_name": "Python 3 (ipykernel)",
   "language": "python",
   "name": "python3"
  },
  "language_info": {
   "codemirror_mode": {
    "name": "ipython",
    "version": 3
   },
   "file_extension": ".py",
   "mimetype": "text/x-python",
   "name": "python",
   "nbconvert_exporter": "python",
   "pygments_lexer": "ipython3",
   "version": "3.10.8"
  }
 },
 "nbformat": 4,
 "nbformat_minor": 5
}
